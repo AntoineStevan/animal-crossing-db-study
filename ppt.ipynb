{
 "cells": [
  {
   "cell_type": "markdown",
   "id": "787ed2c5",
   "metadata": {
    "slideshow": {
     "slide_type": "slide"
    }
   },
   "source": [
    "<img src=\"https://cdn4.iconfinder.com/data/icons/redis-2/1451/Untitled-2-512.png\" alt=\"\" width=\"200\"/>\n",
    "\n",
    "# Redis, le DBM du futur ?\n",
    "\n",
    "- Antonio Giménez Nadal\n",
    "- Antoine Stevan\n",
    "- Cyril Scoul\n",
    "- Pierre Sammut"
   ]
  },
  {
   "cell_type": "markdown",
   "id": "39a68560",
   "metadata": {
    "slideshow": {
     "slide_type": "slide"
    }
   },
   "source": [
    "# Redis, dans le monde des DBMs\n"
   ]
  },
  {
   "cell_type": "markdown",
   "id": "66eab01b",
   "metadata": {
    "slideshow": {
     "slide_type": "subslide"
    }
   },
   "source": [
    "## SQL vs NoSQL\n"
   ]
  },
  {
   "cell_type": "markdown",
   "id": "5738540a",
   "metadata": {
    "slideshow": {
     "slide_type": "fragment"
    }
   },
   "source": [
    "<img src=\"https://th.bing.com/th/id/OIP.W6F1WcYqgaogrQV99OvBVgHaD9?pid=ImgDet&rs=1\" alt=\"\" width=\"600\"/>\n"
   ]
  },
  {
   "cell_type": "markdown",
   "id": "c841f9d9",
   "metadata": {
    "slideshow": {
     "slide_type": "fragment"
    }
   },
   "source": [
    "- Redis c'est un Key-Value NoSQL DBM.\n",
    "- Cependant, avec certains plugins, il peut être converti en n'importe quel type de NoSQL."
   ]
  },
  {
   "cell_type": "markdown",
   "id": "b2c5aff2",
   "metadata": {
    "slideshow": {
     "slide_type": "slide"
    }
   },
   "source": [
    "# Redis, comment ça marche ? "
   ]
  },
  {
   "cell_type": "markdown",
   "id": "3665af20",
   "metadata": {
    "slideshow": {
     "slide_type": "subslide"
    }
   },
   "source": [
    "-expliquer le fonctionnement de base (+ comment est-il conforme à ACID, BASE ?)\n",
    "- avantages et inconvénients\n"
   ]
  },
  {
   "cell_type": "markdown",
   "id": "065e918c",
   "metadata": {
    "slideshow": {
     "slide_type": "slide"
    }
   },
   "source": [
    "# Redis, mieux que postgrestSQL ? "
   ]
  },
  {
   "cell_type": "markdown",
   "id": "425eb4a4",
   "metadata": {
    "slideshow": {
     "slide_type": "subslide"
    }
   },
   "source": [
    "execution de code? compairisons ...\n",
    "voir avantatges en tant que comparant avec postgrestsql\n"
   ]
  },
  {
   "cell_type": "markdown",
   "id": "f7a3a418",
   "metadata": {
    "slideshow": {
     "slide_type": "slide"
    }
   },
   "source": [
    "# Redis, quand l'utiliser ?  "
   ]
  },
  {
   "cell_type": "markdown",
   "id": "0102b1f4",
   "metadata": {
    "slideshow": {
     "slide_type": "subslide"
    }
   },
   "source": [
    "-quand utiliser? + \n",
    "utilisations pratiques (disons modules redis pour faire toutes sortes de bases de données, + entreprises qui l'utilisent)"
   ]
  },
  {
   "cell_type": "markdown",
   "id": "f586a1b8",
   "metadata": {
    "slideshow": {
     "slide_type": "slide"
    }
   },
   "source": [
    "# Redis, le DBM du futur\n",
    "\n",
    "conclusions finales"
   ]
  }
 ],
 "metadata": {
  "celltoolbar": "Slideshow",
  "kernelspec": {
   "display_name": "Python 3",
   "language": "python",
   "name": "python3"
  },
  "language_info": {
   "codemirror_mode": {
    "name": "ipython",
    "version": 3
   },
   "file_extension": ".py",
   "mimetype": "text/x-python",
   "name": "python",
   "nbconvert_exporter": "python",
   "pygments_lexer": "ipython3",
   "version": "3.8.8"
  }
 },
 "nbformat": 4,
 "nbformat_minor": 5
}
