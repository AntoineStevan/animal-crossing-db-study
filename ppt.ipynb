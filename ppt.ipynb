{
 "cells": [
  {
   "cell_type": "markdown",
   "id": "85aea225",
   "metadata": {
    "slideshow": {
     "slide_type": "slide"
    }
   },
   "source": [
    "<img src=\"https://cdn4.iconfinder.com/data/icons/redis-2/1451/Untitled-2-512.png\" alt=\"\" width=\"200\"/>\n",
    "\n",
    "# Redis, le DBM du futur ?\n",
    "\n",
    "- Antonio Giménez Nadal\n",
    "- Pierre Sammut\n",
    "- Cyril Scoul\n",
    "- Antoine Stevan"
   ]
  },
  {
   "cell_type": "markdown",
   "id": "7a4fd6b8",
   "metadata": {
    "slideshow": {
     "slide_type": "notes"
    }
   },
   "source": [
    "[Toni] Redis est un gestionnaire de base de données de type NoSQL très populaire au près des grandes entreprises. "
   ]
  },
  {
   "cell_type": "markdown",
   "id": "5f82cbae",
   "metadata": {
    "slideshow": {
     "slide_type": "slide"
    }
   },
   "source": [
    "# Redis, dans le monde des DBMs\n"
   ]
  },
  {
   "cell_type": "markdown",
   "id": "fd6960db",
   "metadata": {
    "slideshow": {
     "slide_type": "notes"
    }
   },
   "source": [
    "[Toni] Avant d'entrer dans le vif du sujet, contextualisons où se trouve Redis parmi les différents DBMS."
   ]
  },
  {
   "cell_type": "markdown",
   "id": "e25255e8",
   "metadata": {
    "slideshow": {
     "slide_type": "subslide"
    }
   },
   "source": [
    "## SQL vs NoSQL\n"
   ]
  },
  {
   "cell_type": "markdown",
   "id": "92da8560",
   "metadata": {
    "slideshow": {
     "slide_type": "notes"
    }
   },
   "source": [
    "[Toni] Quelle est la différence entre les langages SQL et NoSQL ?"
   ]
  },
  {
   "cell_type": "markdown",
   "id": "5f626e81",
   "metadata": {
    "slideshow": {
     "slide_type": "fragment"
    }
   },
   "source": [
    "<img src=\"https://th.bing.com/th/id/OIP.W6F1WcYqgaogrQV99OvBVgHaD9?pid=ImgDet&rs=1\" alt=\"\" width=\"600\"/>\n"
   ]
  },
  {
   "cell_type": "markdown",
   "id": "b720a967",
   "metadata": {
    "slideshow": {
     "slide_type": "notes"
    }
   },
   "source": [
    "[Toni] Dans la famille SQL on trouve deux type the gesteurs. Les relationnels et les analytics, exploitables par différents logiciels tel que postgrestSQL et d'autres différentes versions commerciales.\n",
    "\n",
    "Dans la famille des bases de données NoSQL, on peut distinguer 4 types familles :\n",
    "\n",
    "   - Wide-colum (Exploitation par Cassandra par exemple) ;\n",
    "   - Graphs (Neo4j) ;\n",
    "   - Documents (MongoDB) ;\n",
    "   - Key-Value, (Redis).\n",
    "\n",
    "Redis est un gestionnaire de base de données NoSQL, en particulier pour les données sous la forme Key-Value. \n",
    "\n",
    "Néanmoins, moyennement l'installation de plugins, Redis peut gérer tous type de base de données NoSQL."
   ]
  },
  {
   "cell_type": "markdown",
   "id": "7b0023f5",
   "metadata": {
    "slideshow": {
     "slide_type": "slide"
    }
   },
   "source": [
    "# Redis, comment ça marche ? "
   ]
  },
  {
   "cell_type": "markdown",
   "id": "c8189f6d",
   "metadata": {
    "slideshow": {
     "slide_type": "subslide"
    }
   },
   "source": [
    "Le nom Redis vient de **Re**mote **Di**ctionary **S**erver. \n",
    "\n",
    "Il propose :\n",
    "\n",
    "   - Une **base de données en mémoire** : ces bases de données permettent au SGBD d’enregistrer toutes les données directement dans la mémoire vive. Ceci permet des délais d’accès très courts – même en cas de grands volumes de données non structurées.  \n",
    "   \n",
    "   - Un **système clé-valeur**: chaque entrée de la base de données se voit attribuer une clé. Elle permet de consulter les données ultérieurement en toute simplicité. Les entrées ne sont donc pas liées les unes aux autres et ne doivent donc pas être interrogées dans plusieurs tableaux. Les informations sont directement disponibles."
   ]
  },
  {
   "cell_type": "markdown",
   "id": "60ad2237",
   "metadata": {
    "slideshow": {
     "slide_type": "subslide"
    }
   },
   "source": [
    "Le système peut supporter les types de données suivants : \n",
    "\n",
    "   - **Strings** : une suite de caractères d’une taille maximale de 512 Mo \n",
    "   - **Hashes** : une entrée avec plusieurs champs \n",
    "   - **Lists** : un ensemble de strings triés par ordre de saisie \n",
    "   - **Sets** : un ensemble de strings non triés \n",
    "   - **Sorted sets** : un ensemble de strings triés par l’utilisateur \n",
    "   - **Bitmaps** : un ensemble d’opérations au niveau des bits \n",
    "   - **HyperLogLogs** : une estimation basée sur des valeurs précises \n",
    "   - **Streams** : une liste de strings ou de paires clé-valeur complexes"
   ]
  },
  {
   "cell_type": "markdown",
   "id": "176e2039",
   "metadata": {
    "slideshow": {
     "slide_type": "slide"
    }
   },
   "source": [
    "# Redis vs PostgreSQL"
   ]
  },
  {
   "cell_type": "markdown",
   "id": "a2382215",
   "metadata": {
    "slideshow": {
     "slide_type": "fragment"
    }
   },
   "source": [
    "Nous allons analyser les différences à l'aide d'un cas pratique que nous avons fait."
   ]
  },
  {
   "cell_type": "markdown",
   "id": "7997b5ed",
   "metadata": {
    "slideshow": {
     "slide_type": "subslide"
    }
   },
   "source": [
    "## Base de donnes\n",
    "\n",
    "Nous avons retenu une base de données extraite du jeu Animal Crossing pour réaliser notre étude.\n",
    "\n",
    "La base de données contient 30 csv, chacun répertoriant divers objets, villageois, vêtements et autres objets de collection du jeu. Les données ont été collectées par un groupe de fans d'Animal Crossing qui continue de collaborer et de créer ces feuilles de calcul pour un usage public. La base de données contient les données originales et la liste complète des contributeurs et des données brutes. Au moment de la rédaction, la seule différence entre la feuille de calcul et cette version est que la version Kaggle omet toutes les colonnes avec des images des éléments, mais est par ailleurs identique.\n",
    "\n",
    "Source : https://www.kaggle.com/jessicali9530/animal-crossing-new-horizons-nookplaza-dataset?fbclid=IwAR132yW030ZcxYDtzeSpl9Zp7m-7_ZOUUw20d3P0tdFwuOE3PXYZ9J7TDhs\n"
   ]
  },
  {
   "cell_type": "code",
   "execution_count": 9,
   "id": "ccd33985",
   "metadata": {
    "slideshow": {
     "slide_type": "skip"
    }
   },
   "outputs": [
    {
     "ename": "SyntaxError",
     "evalue": "invalid syntax (<ipython-input-9-d87383325fb0>, line 1)",
     "output_type": "error",
     "traceback": [
      "\u001b[1;36m  File \u001b[1;32m\"<ipython-input-9-d87383325fb0>\"\u001b[1;36m, line \u001b[1;32m1\u001b[0m\n\u001b[1;33m    Montrer la forme des tables avec **seecsv ? Insérer le code.  Comment il marhce c'est code parce que c'est bash **\u001b[0m\n\u001b[1;37m            ^\u001b[0m\n\u001b[1;31mSyntaxError\u001b[0m\u001b[1;31m:\u001b[0m invalid syntax\n"
     ]
    }
   ],
   "source": [
    "Montrer la forme des tables avec **seecsv ? Insérer le code.  Comment il marhce c'est code parce que c'est bash **"
   ]
  },
  {
   "cell_type": "markdown",
   "id": "6c845d6c",
   "metadata": {
    "slideshow": {
     "slide_type": "subslide"
    }
   },
   "source": [
    "## Pré-traitement nécessaire pour pouvoir exploiter la base de données avec Redis                                          "
   ]
  },
  {
   "cell_type": "markdown",
   "id": "f0749b42",
   "metadata": {
    "slideshow": {
     "slide_type": "notes"
    }
   },
   "source": [
    "Explication : scripts/imports/redis_import_main.py tables."
   ]
  },
  {
   "cell_type": "code",
   "execution_count": null,
   "id": "7da4cfec",
   "metadata": {
    "slideshow": {
     "slide_type": "subslide"
    }
   },
   "outputs": [],
   "source": [
    "# %load scripts/imports/redis_import_main.py\n",
    "import argparse\n",
    "import os\n",
    "import traceback\n",
    "import redis\n",
    "import csv\n",
    "import glob\n",
    "\n",
    "def main(db_path, script=False, auto=False, verbose=False, clean=False):\n",
    "    # gets the name of the directory where the script is, to allow\n",
    "    # executing the script from anywhere.\n",
    "    directory = os.path.dirname(os.path.realpath(__file__))\n",
    "\n",
    "    #DATABASE IMPORT TO REDIS\n",
    "    csv_files = [f for f in glob.glob(os.path.join(db_path, \"*.csv\"))]\n",
    "    csv_files.sort()\n",
    "    elem_id = 0\n",
    "    output_filename = os.path.join(directory, \"import_db.redis\")\n",
    "\n",
    "    if clean:\n",
    "        if os.path.exists(output_filename):\n",
    "            print(f\"removing {output_filename}\")\n",
    "            os.remove(output_filename)\n",
    "        else:\n",
    "            print(\"no .redis file to remove... Skipping.\")\n",
    "\n",
    "    if not script and not auto:\n",
    "        print(\"nothing to do... Aborting.\")\n",
    "        return\n",
    "    if auto: #Open Redis DBM\n",
    "        r = redis.Redis() #host='localhost', port=6379, db=0, password=None, socket_timeout=None\n",
    "    if script:\n",
    "        redis_script = open(output_filename, \"w\")"
   ]
  },
  {
   "cell_type": "code",
   "execution_count": null,
   "id": "0f47ef1e",
   "metadata": {
    "slideshow": {
     "slide_type": "subslide"
    }
   },
   "outputs": [],
   "source": [
    "    for csv_file in csv_files:\n",
    "            try:\n",
    "                csvfile = open(csv_file, newline='')\n",
    "                csvreader = csv.reader(csvfile, delimiter=',')\n",
    "                first_row = True\n",
    "                for row in csvreader:\n",
    "                    if first_row == True:\n",
    "                        headers = row\n",
    "                        headers[0] = headers[0][1:]\n",
    "                        first_row = False\n",
    "                    else: #Add to Redis                \n",
    "                        if auto: #Import directly \n",
    "                            line = {f\"{'_'.join(header.split(' '))}\" : value.replace('\\n', ';') for header, value in list(zip(headers, row))}\n",
    "                            r.hmset(f'{elem_id}', line)\n",
    "                            if verbose:\n",
    "                                print(r.hgetall(f'{elem_id}'))\n",
    "                        if script: #Create redis script: ex: HMSET elem_id field1 \"Hello\" field2 \"World\"\n",
    "                            line = \" \".join(f\"{'_'.join(header.split(' '))} \" + value.replace('\\n', ';') for header, value in list(zip(headers, row)) )\n",
    "                            redis_line = f'HMSET {elem_id} {line}\\n'\n",
    "                            redis_script.write(redis_line)\n",
    "                            if verbose:\n",
    "                                print(redis_line)\n",
    "                        elem_id +=1 #at the end so we keep python index notation\n",
    "                csvfile.close()\n",
    "            except:\n",
    "                print(traceback.format_exc())\n",
    "    if script:\n",
    "        redis_script.close()"
   ]
  },
  {
   "cell_type": "code",
   "execution_count": null,
   "id": "d0d1ac5d",
   "metadata": {
    "slideshow": {
     "slide_type": "subslide"
    }
   },
   "outputs": [],
   "source": [
    "if __name__ == \"__main__\":\n",
    "    # create a parser to change behaviour from outside.\n",
    "    parser = argparse.ArgumentParser()\n",
    "    parser.add_argument(\"tables\", type=str, nargs=1,\n",
    "            help=\"the location of the tables, from the execution location (is required).\")\n",
    "    parser.add_argument('-s', \"--script\", default=False, action=\"store_true\",\n",
    "            help=\"if raised, the execution will generate a redis import script (defaults to False).\")\n",
    "    parser.add_argument('-a', \"--auto\", default=False, action=\"store_true\",\n",
    "            help=\"allows the script to automatically load the database inside a redis server. make sure a redis server is activated before hand. (defaults to False).\")\n",
    "    parser.add_argument('-v', \"--verbose\", default=False, action=\"store_true\",\n",
    "            help=\"turns on verbose (defaults to False).\")\n",
    "    parser.add_argument('-c', \"--clean\", default=False, action=\"store_true\",\n",
    "            help=\"cleans the workspace from generated .redis file (defaults to False).\")\n",
    "\n",
    "    args = parser.parse_args()\n",
    "\n",
    "    #EXECUTION PARAMETERS\n",
    "    script = args.script\n",
    "    auto = args.auto\n",
    "    verbose = args.verbose\n",
    "    db_path = args.tables[0]\n",
    "    clean = args.clean\n",
    "\n",
    "    # the actual redis database generation.\n",
    "    main(db_path, script=script, auto=auto, verbose=verbose, clean=clean)"
   ]
  },
  {
   "cell_type": "markdown",
   "id": "837b93b9",
   "metadata": {
    "slideshow": {
     "slide_type": "subslide"
    }
   },
   "source": [
    "Les données se présentent alors sous la forme clef-valeur : \n",
    " \n",
    "   - La clef est un entier compris entre 0 et 16144, 16 144 correspondant à l'addition du nombre de lignes total de toutes les relations contenues dans la base de données Animal Crossing.\n",
    "   - La valeur associée (qui est une ligne) se présente sous la forme :  \n",
    "\n",
    "          1) \"Nom de la colonne1\"/\"Donnée associée\" \n",
    "          2) \"Nom de la colonne2\"/\"Donnée associée\" \n",
    "          ...\n",
    "          N) \"Nom de la colonneN\"/\"Donnée associée\""
   ]
  },
  {
   "cell_type": "markdown",
   "id": "1e598c9d",
   "metadata": {
    "slideshow": {
     "slide_type": "notes"
    }
   },
   "source": [
    "Les requêtes sur PostgreSQl étant incompatibles avec les reqûetes Redis, on choisit de contourner le problème en passant par le langage Python afin de pouvoir les traduire."
   ]
  },
  {
   "cell_type": "markdown",
   "id": "05cabe55",
   "metadata": {
    "slideshow": {
     "slide_type": "subslide"
    }
   },
   "source": [
    "## Quelques requêtes SQL sur PostgreSQL et leurs équivalent en Redis en passant par python\n",
    "\n",
    "Nous avons fait plus de 30 requêtes. Vous pouvez les consulter sur le github du projet. Cependant, nous allons maintenant en discuter quelques-uns juste pour voir les différences."
   ]
  },
  {
   "cell_type": "markdown",
   "id": "958dddcb",
   "metadata": {
    "slideshow": {
     "slide_type": "notes"
    }
   },
   "source": [
    "Commenter la forme des reqûetes en direct."
   ]
  },
  {
   "cell_type": "markdown",
   "id": "817319c0",
   "metadata": {
    "slideshow": {
     "slide_type": "subslide"
    }
   },
   "source": [
    "### Query 1"
   ]
  },
  {
   "cell_type": "code",
   "execution_count": null,
   "id": "fe954392",
   "metadata": {
    "slideshow": {
     "slide_type": "fragment"
    }
   },
   "outputs": [],
   "source": [
    "# %load scripts/queries/psql/query_01/query.psql\n",
    "SELECT AVG(sell)\n",
    "FROM accessories;"
   ]
  },
  {
   "cell_type": "code",
   "execution_count": null,
   "id": "4894c48a",
   "metadata": {
    "slideshow": {
     "slide_type": "fragment"
    }
   },
   "outputs": [],
   "source": [
    "# %load scripts/queries/redis/query_01/query.py\n",
    "import redis\n",
    "\n",
    "r = redis.Redis()\n",
    "\n",
    "#keys corresponding to tables\n",
    "accessories = range(0,222)\n",
    "#Query 2\n",
    "list_sell = []\n",
    "for key in accessories :\n",
    "    elem = r.hmget(key,'Sell')\n",
    "    list_sell.append(int(elem[0].decode()))\n",
    "results2 = sum(list_sell)/len(list_sell)\n",
    "print(\"Query 2 :\", results2)"
   ]
  },
  {
   "cell_type": "markdown",
   "id": "3bff6f4e",
   "metadata": {
    "slideshow": {
     "slide_type": "subslide"
    }
   },
   "source": [
    "### Query 7"
   ]
  },
  {
   "cell_type": "code",
   "execution_count": null,
   "id": "0f0d4ea4",
   "metadata": {
    "slideshow": {
     "slide_type": "fragment"
    }
   },
   "outputs": [],
   "source": [
    "# %load scripts/queries/psql/query_07/query.psql\n",
    "SELECT name, category, buy, sell, catalog, artist, museum_description\n",
    "FROM art\n",
    "WHERE size_of='1x1'\n",
    "AND hha_concept_1='expensive'\n",
    "AND hha_concept_2='folk art'\n",
    "AND tag='Sculpture';"
   ]
  },
  {
   "cell_type": "code",
   "execution_count": null,
   "id": "aa97da27",
   "metadata": {
    "slideshow": {
     "slide_type": "subslide"
    }
   },
   "outputs": [],
   "source": [
    "# %load scripts/queries/redis/query_07/query.py\n",
    "import redis\n",
    "\n",
    "r = redis.Redis()\n",
    "\n",
    "#keys corresponding to tables\n",
    "art = range(306,376)\n",
    "\n",
    "#Query 8\n",
    "results8 = []\n",
    "for key in art :\n",
    "    elem_decoded = r.hmget(key,'Size')[0].decode()\n",
    "    elem_decoded2 = r.hmget(key,'HHA_Concept_1')[0].decode()\n",
    "    elem_decoded3 = r.hmget(key,'HHA_Concept_2')[0].decode()\n",
    "    elem_decoded4 = r.hmget(key,'Tag')[0].decode()\n",
    "    if (elem_decoded == '1x1') and (elem_decoded2 == 'expensive') and (elem_decoded3 == 'folk art') and (elem_decoded4 == 'Sculpture') :\n",
    "        result8 = []\n",
    "        result8.append(r.hmget(key,'Name')[0].decode())\n",
    "        result8.append(r.hmget(key,'Category')[0].decode())\n",
    "        result8.append(r.hmget(key,'Buy')[0].decode())\n",
    "        result8.append(r.hmget(key,'Sell')[0].decode())\n",
    "        result8.append(r.hmget(key,'Catalog')[0].decode())\n",
    "        result8.append(r.hmget(key,'Artist')[0].decode())\n",
    "        result8.append(r.hmget(key,'Museum_Description')[0].decode())\n",
    "        results8.append(result8)\n",
    "\n",
    "print(\"Query 8 :\", results8)"
   ]
  },
  {
   "cell_type": "markdown",
   "id": "8a3d869e",
   "metadata": {
    "slideshow": {
     "slide_type": "subslide"
    }
   },
   "source": [
    "### Query 18"
   ]
  },
  {
   "cell_type": "code",
   "execution_count": null,
   "id": "ee0d66fb",
   "metadata": {
    "slideshow": {
     "slide_type": "fragment"
    }
   },
   "outputs": [],
   "source": [
    "# %load scripts/queries/psql/query_18/query.psql\n",
    "SELECT name, buy, sell, catalog, color_1, color_2, source, outdoor FROM housewares WHERE hha_concept_1='expensive' AND tag='Toy';"
   ]
  },
  {
   "cell_type": "code",
   "execution_count": null,
   "id": "2f8cee99",
   "metadata": {
    "slideshow": {
     "slide_type": "fragment"
    }
   },
   "outputs": [],
   "source": [
    "# %load scripts/queries/redis/query_18/query.py\n",
    "import redis\n",
    "\n",
    "r = redis.Redis()\n",
    "\n",
    "#keys corresponding to tables\n",
    "housewares = range(3393,6668)\n",
    "\n",
    "#Query 19\n",
    "results19 = []\n",
    "for key in housewares:\n",
    "    elem_decoded = r.hmget(key,'HHA_Concept_1')[0].decode()\n",
    "    elem_decoded1 = r.hmget(key,'Tag')[0].decode()\n",
    "    if (elem_decoded == 'expensive') and (elem_decoded1 == 'Toy'):\n",
    "        result19 = []\n",
    "        result19.append(r.hmget(key,'Name')[0].decode())\n",
    "        result19.append(r.hmget(key,'Buy')[0].decode())\n",
    "        result19.append(r.hmget(key,'Sell')[0].decode())\n",
    "        result19.append(r.hmget(key,'Catalog')[0].decode())\n",
    "        result19.append(r.hmget(key,'Color_1')[0].decode())\n",
    "        result19.append(r.hmget(key,'Color_2')[0].decode())\n",
    "        result19.append(r.hmget(key,'Source')[0].decode())\n",
    "        result19.append(r.hmget(key,'Outdoor')[0].decode())\n",
    "        results19.append(result19)\n",
    "print(\"Query 19 :\", results19)"
   ]
  },
  {
   "cell_type": "markdown",
   "id": "474d9898",
   "metadata": {
    "slideshow": {
     "slide_type": "subslide"
    }
   },
   "source": [
    "### Query 34"
   ]
  },
  {
   "cell_type": "code",
   "execution_count": null,
   "id": "61d4a4ee",
   "metadata": {
    "slideshow": {
     "slide_type": "fragment"
    }
   },
   "outputs": [],
   "source": [
    "# %load scripts/queries/psql/query_34/query.psql\n",
    "SELECT name, personality, hobby, birthday, catchphrase, favorite_song, style_1, style_2, color_1, color_2, wallpaper, furniture_list FROM villagers WHERE species='Bird' AND gender='Male' AND flooring='tatami';"
   ]
  },
  {
   "cell_type": "code",
   "execution_count": null,
   "id": "494c0ecb",
   "metadata": {
    "slideshow": {
     "slide_type": "fragment"
    }
   },
   "outputs": [],
   "source": [
    "# %load scripts/queries/redis/query_34/query.py\n",
    "import timeit\n",
    "import redis\n",
    "\n",
    "r = redis.Redis()\n",
    "villagers = range(15049,15440) #Keys corresponding to tables\n",
    "Results34 = []\n",
    "for key in villagers:\n",
    "    elem_decoded1 = r.hmget(key,'Species')[0].decode()\n",
    "    elem_decoded2 = r.hmget(key,'Gender')[0].decode()\n",
    "    elem_decoded3 = r.hmget(key,'Flooring')[0].decode()\n",
    "\n",
    "    if (elem_decoded1 == 'Bird') and (elem_decoded2 == 'Male') and (elem_decoded3 == 'tatami'): \n",
    "        Result34 = []\n",
    "        Result34.append(r.hmget(key,'Name')[0].decode())\n",
    "        Result34.append(r.hmget(key,'Personality')[0].decode())\n",
    "        Result34.append(r.hmget(key,'Hobby')[0].decode())\n",
    "        Result34.append(r.hmget(key,'Birthday')[0].decode())\n",
    "        Result34.append(r.hmget(key,'Catchphrase')[0].decode())\n",
    "        Result34.append(r.hmget(key,'Favorite_Song')[0].decode())\n",
    "        Result34.append(r.hmget(key,'Style_1')[0].decode())\n",
    "        Result34.append(r.hmget(key,'Style_2')[0].decode())\n",
    "        Result34.append(r.hmget(key,'Color_1')[0].decode())\n",
    "        Result34.append(r.hmget(key,'Color_2')[0].decode())\n",
    "        Result34.append(r.hmget(key,'Wallpaper')[0].decode())\n",
    "        Result34.append(r.hmget(key,'Furniture_List')[0].decode())\n",
    "        Results34.append(Result34)\n",
    "#print('Query 34 : ', Results34)\n",
    "timeit.timeit()"
   ]
  },
  {
   "cell_type": "markdown",
   "id": "b9231d8b",
   "metadata": {
    "slideshow": {
     "slide_type": "subslide"
    }
   },
   "source": [
    "## Temps d'execution des requêtes avec PostgreSQL et Redis\n"
   ]
  },
  {
   "cell_type": "markdown",
   "id": "577d4006",
   "metadata": {
    "slideshow": {
     "slide_type": "notes"
    }
   },
   "source": [
    "Discuter la différence des temps d'execution."
   ]
  },
  {
   "cell_type": "markdown",
   "id": "9cffde9d",
   "metadata": {
    "slideshow": {
     "slide_type": "skip"
    }
   },
   "source": [
    "### PostgrestSQL\n",
    "\n",
    "\n",
    "|command | time [ms] (not cached) | time [ms] (cached) | error [ms] |\n",
    "|:- | :- | :- | :- |\n",
    "|INSERT INTO ... (...) VALUES (...);            |   ~21.5    | ~1.5   |        ~0.8      |\n",
    "|DELETE FROM ... WHERE ...;                     |   ~21.5    | ~1.5   |        ~0.6      |\n",
    "|UPDATE ... SET ... WHERE ...;                  |   ~22      | ~1.5   |        ~0.8      |\n",
    "|ALTER TABLE ... ADD ... ...;                   |   ~22      | ~1.8   |        ~0.7      |\n",
    "|ALTER TABLE ... DROP COLUMN ...;               |   ~22      | ~1.8   |        ~0.7      |\n",
    "|ALTER TABLE ... ALTER COLUMN ...; (same type)  |   ~22      | ~1.5   |        ----      |\n",
    "|ALTER TABLE ... ALTER COLUMN ...; (other type) |   ~48      | ~35    |        ----      |\n",
    "|ALTER TABLE ... RENAME COLUMN ...;             |   ~30      | ~1.5   |        ~0.8      |\n"
   ]
  },
  {
   "cell_type": "markdown",
   "id": "4884ca83",
   "metadata": {
    "slideshow": {
     "slide_type": "subslide"
    }
   },
   "source": [
    "### PostgrestSQL\n",
    "\n",
    "times over 101 trials\n",
    "\n",
    "| query | time: mean  | time: std  | rank |\n",
    "|:-  | :- | :- | :- |\n",
    "|0  |  1,45243 | 0,00254431    |  19  | \n",
    "|1  |  1,44999 | 0,000198012   |  8   |  \n",
    "|2  |  1,57168 | 0,0129673     |  36  |  \n",
    "|3  |  1,75741 | 4,07965e-05   |  35  |  \n",
    "|4  |  2,17965 | 0,000363189   |  18  | \n",
    "|5  |  1,67916 | 0,00608565    |  24  |  \n",
    "|6  |  1,71129 | 0,0093822     |  21  |  \n",
    "|7  |  1,81377 | 7,66179e-05   |  4   | \n",
    "|8  |  7,20971 | 0,023454      |  32  |  \n",
    "|9  |  1,47102 | 0,00229057    |  14  |  \n",
    "|10 |  0,03511 | 0,0494328     |  12  |  \n",
    "|11 |  1,66974 | 0,00355627    |  17  |  \n",
    "|12 |  1,9723  | 0,00401       |  20  |  \n",
    "|13 |  1,29768 | 0,00580305    |  34  |  \n",
    "|14 |  1,99219 | 0,00230749    |  30  |  \n",
    "|15 |  1,79065 | 0,0568515     |  38  |  \n"
   ]
  },
  {
   "cell_type": "markdown",
   "id": "7573dc26",
   "metadata": {
    "slideshow": {
     "slide_type": "subslide"
    }
   },
   "source": [
    "| query | time: mean  | time: std  | rank |\n",
    "|:-  | :- | :- | :- |\n",
    "|16 |  1,68871 | 0,0014637     |  29  | \n",
    "|17 |  1,96511 | 0,001404      |  31  | \n",
    "|18 |  2,61801 | 0,000498514   |  7   |  \n",
    "|19 | 10,3022  | 0,0108658     |  37  |  \n",
    "|20 |  1,96095 | 0,000293536   |  15  | \n",
    "|21 |  2,32944 | 0,000441797   |  25  |  \n",
    "|22 |  1,39298 | 0,00109255    |  28  |  \n",
    "|23 |  1,55501 | 9,85087e-05   |  3   | \n",
    "|24 |  2,35178 | 0,00375925    |  33  |  \n",
    "|25 |  1,78952 | 0,00820707    |  6   |  \n",
    "|26 |  1,62799 | 9,95037e-07   |  16  |  \n",
    "|27 |  1,60054 | 0,00711849    |  5   |  \n",
    "|28 |  1,78355 | 0,006015      |  11  |  \n",
    "|29 |  1,89648 | 0,00462493    |  26  |  \n",
    "|30 |  1,9006  | 0,00471648    |  27  |  \n",
    "|31 |  1,83267 | 0,0132011     |  2   |  \n",
    "|32 |  2,01368 | 0,00484384    |  23  |  \n",
    "|33 |  1,74344 | 0,00163584    |  9   |  \n",
    "|34 |  1,92456 | 0,00622495    |  0   |  \n",
    "|35 |  3,58048 | 0,000147266   |  1   |  \n",
    "|36 |  3,94201 | 0,0145285     |  22  |  \n",
    "|37 |  1,79605 | 4,97519e-06   |  13  |  \n",
    "|38 |  1,89671 | 0,0041085     |  10  |"
   ]
  },
  {
   "cell_type": "markdown",
   "id": "135f0923",
   "metadata": {
    "slideshow": {
     "slide_type": "subslide"
    }
   },
   "source": [
    "### Redis\n",
    "\n",
    "|rank | query | time execution [ms] |\n",
    "|:- | :- | :- |\n",
    "| 1 | query_37 | 0.01439669999990656 |\n",
    "| 2 | query_28| 0.014632300000130272|\n",
    "| 3 | query_19| 0.01521679999996195.|\n",
    "| 4 | query_13| 0.015262000000006992.|\n",
    "| 5 | query_33| 0.015263000000004467.|\n",
    "| 6 | query_26| 0.015269199999920602.|\n",
    "| 7 | query_27| 0.015377100000023347.|\n",
    "| 8 | query_24| 0.015502299999980096.|\n",
    "| 9 | query_15| 0.015539600000010978.|\n",
    "| 10 | query_09|  0.01559769999994387.|\n",
    "| 11 | query_02|  0.015759400000007417.|\n",
    "| 12 | query_01|  0.015943000000007146.|\n",
    "| 13 | query_06|  0.01599900000002208.|\n",
    "| 14 | query_11|  0.0160500999999158.|\n",
    "| 15 | query_03|  0.016089100000016288.|\n",
    "| 16 | query_07|  0.016349499999989803.|"
   ]
  },
  {
   "cell_type": "markdown",
   "id": "e13e14e3",
   "metadata": {
    "slideshow": {
     "slide_type": "subslide"
    }
   },
   "source": [
    "|rank | query | time execution [ms] |\n",
    "|:- | :- | :- |\n",
    "| 17 | query_29|  0.016535800000156087.|\n",
    "| 18 | query_00|  0.016543699999999717.|\n",
    "| 19 | query_25|  0.01668029999996179.|\n",
    "| 20 | query_34|  0.017864599999938946.|\n",
    "| 21 | query_21|  0.01807379999991099.|\n",
    "| 22 | query_16|  0.018181600000048093.|\n",
    "| 23 | query_22|  0.019896799999969517.|\n",
    "| 24 | query_35|  0.02064180000002125.|\n",
    "| 25 | query_17|  0.020691200000101162.|\n",
    "| 26 | query_10|  0.021966999999904147.|\n",
    "| 27 | query_30|  0.02466950000007273.|\n",
    "| 28 | query_31|  0.025483399999984613.|\n",
    "| 29 | query_05|  0.025587099999995644.|\n",
    "| 30 | query_12|  0.0265006000000767.|\n",
    "| 31 | query_23|  0.02941740000005666.|\n",
    "| 32 | query_38|  0.02982719999999972.|\n",
    "| 33 | query_20|  0.02997779999998329.|\n",
    "| 34 | query_04|  0.030045499999999947.|\n",
    "| 35 | query_32|  0.03298699999982091.|\n",
    "| 36 | query_18|  0.04078839999999673.|\n",
    "| 37 | query_14|  0.048689399999943817.|\n",
    "| 38 | query_36|  too long|\n",
    "| 39 | query_08|  too long|"
   ]
  },
  {
   "cell_type": "markdown",
   "id": "9a212c56",
   "metadata": {
    "slideshow": {
     "slide_type": "slide"
    }
   },
   "source": [
    "# Redis, quand l'utiliser ?  Conclusions !"
   ]
  },
  {
   "cell_type": "markdown",
   "id": "1326fda9",
   "metadata": {
    "slideshow": {
     "slide_type": "subslide"
    }
   },
   "source": [
    "Discuter l'efficacité en fonction de la nature des données, temps d'execution.\n",
    "Quelles entreprises utilises déjà Redis ?"
   ]
  },
  {
   "cell_type": "markdown",
   "metadata": {},
   "source": [
    "- Avantage en termes de rapidité, mais attention à utiliser dans des cas bien précis."
   ]
  },
  {
   "cell_type": "markdown",
   "metadata": {},
   "source": [
    "<img src=\"https://www.freepnglogos.com/uploads/twitter-logo-png/twitter-logo-vector-png-clipart-1.png\" alt=\"\" width=\"300\"/>\n",
    "\n",
    "<img src=\"https://tse1.mm.bing.net/th?id=OIP.EgSPriuEnAtlIWJV8R_E1QHaGs&pid=Api&rs=1&c=1&qlt=95&w=132&h=119\" alt=\"\" width=\"300\"/>\n",
    "<img src=\"https://tse3.mm.bing.net/th?id=OIP.XohozfrvQgQvlRBi16vj5QHaEK&pid=Api&P=0&w=301&h=170\" alt=\"\" width=\"500\"/>\n",
    "\n"
   ]
  },
  {
   "cell_type": "markdown",
   "metadata": {},
   "source": []
  }
 ],
 "metadata": {
  "celltoolbar": "Slideshow",
  "interpreter": {
   "hash": "916dbcbb3f70747c44a77c7bcd40155683ae19c65e1c03b4aa3499c5328201f1"
  },
  "kernelspec": {
   "display_name": "Python 3.8.10 64-bit",
   "name": "python3"
  },
  "language_info": {
   "codemirror_mode": {
    "name": "ipython",
    "version": 3
   },
   "file_extension": ".py",
   "mimetype": "text/x-python",
   "name": "python",
   "nbconvert_exporter": "python",
   "pygments_lexer": "ipython3",
   "version": "3.8.10"
  }
 },
 "nbformat": 4,
 "nbformat_minor": 5
}
