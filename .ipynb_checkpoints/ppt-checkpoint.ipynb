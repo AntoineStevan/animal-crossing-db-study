{
 "cells": [
  {
   "cell_type": "markdown",
   "id": "85aea225",
   "metadata": {
    "slideshow": {
     "slide_type": "slide"
    }
   },
   "source": [
    "<img src=\"https://cdn4.iconfinder.com/data/icons/redis-2/1451/Untitled-2-512.png\" alt=\"\" width=\"200\"/>\n",
    "\n",
    "# Redis, le DBM du futur ?\n",
    "\n",
    "- Antonio Giménez Nadal\n",
    "- Pierre Sammut\n",
    "- Cyril Scoul\n",
    "- Antoine Stevan"
   ]
  },
  {
   "cell_type": "markdown",
   "id": "7a4fd6b8",
   "metadata": {
    "slideshow": {
     "slide_type": "notes"
    }
   },
   "source": [
    "[Toni] Redis est un gestionnaire de base de données de type NoSQL très populaire au près des grandes entreprises. "
   ]
  },
  {
   "cell_type": "markdown",
   "id": "5f82cbae",
   "metadata": {
    "slideshow": {
     "slide_type": "slide"
    }
   },
   "source": [
    "# Redis, dans le monde des DBMs\n"
   ]
  },
  {
   "cell_type": "markdown",
   "id": "fd6960db",
   "metadata": {
    "slideshow": {
     "slide_type": "notes"
    }
   },
   "source": [
    "[Toni] Avant d'entrer dans le vif du sujet, contextualisons où se trouve Redis parmi les différents DBMS."
   ]
  },
  {
   "cell_type": "markdown",
   "id": "e25255e8",
   "metadata": {
    "slideshow": {
     "slide_type": "subslide"
    }
   },
   "source": [
    "## SQL vs NoSQL\n"
   ]
  },
  {
   "cell_type": "markdown",
   "id": "92da8560",
   "metadata": {
    "slideshow": {
     "slide_type": "notes"
    }
   },
   "source": [
    "[Toni] Quelle est la différence entre les langages SQL et NoSQL ?"
   ]
  },
  {
   "cell_type": "markdown",
   "id": "5f626e81",
   "metadata": {
    "slideshow": {
     "slide_type": "fragment"
    }
   },
   "source": [
    "<img src=\"https://th.bing.com/th/id/OIP.W6F1WcYqgaogrQV99OvBVgHaD9?pid=ImgDet&rs=1\" alt=\"\" width=\"600\"/>\n"
   ]
  },
  {
   "cell_type": "markdown",
   "id": "b720a967",
   "metadata": {
    "slideshow": {
     "slide_type": "notes"
    }
   },
   "source": [
    "[Toni] Dans la famille SQL on trouve deux type the gesteurs. Les relationnels et les analytics, exploitables par différents logiciels tel que postgrestSQL et d'autres différentes versions commerciales.\n",
    "\n",
    "Dans la famille des bases de données NoSQL, on peut distinguer 4 types familles :\n",
    "\n",
    "   - Wide-colum (Exploitation par Cassandra par exemple) ;\n",
    "   - Graphs (Neo4j) ;\n",
    "   - Documents (MongoDB) ;\n",
    "   - Key-Value, (Redis).\n",
    "\n",
    "Redis est un gestionnaire de base de données NoSQL, en particulier pour les données sous la forme Key-Value. \n",
    "\n",
    "Néanmoins, moyennement l'installation de plugins, Redis peut gérer tous type de base de données NoSQL."
   ]
  },
  {
   "cell_type": "markdown",
   "id": "7b0023f5",
   "metadata": {
    "slideshow": {
     "slide_type": "slide"
    }
   },
   "source": [
    "# Redis, comment ça marche ? "
   ]
  },
  {
   "cell_type": "markdown",
   "id": "c8189f6d",
   "metadata": {
    "slideshow": {
     "slide_type": "subslide"
    }
   },
   "source": [
    "Le nom Redis vient de **Re**mote **Di**ctionary **S**erver. \n",
    "\n",
    "Il propose :\n",
    "\n",
    "   - Une **base de données en mémoire** : ces bases de données permettent au SGBD d’enregistrer toutes les données directement dans la mémoire vive. Ceci permet des délais d’accès très courts – même en cas de grands volumes de données non structurées.  \n",
    "   \n",
    "   - Un **système clé-valeur**: chaque entrée de la base de données se voit attribuer une clé. Elle permet de consulter les données ultérieurement en toute simplicité. Les entrées ne sont donc pas liées les unes aux autres et ne doivent donc pas être interrogées dans plusieurs tableaux. Les informations sont directement disponibles."
   ]
  },
  {
   "cell_type": "markdown",
   "id": "672c6eda",
   "metadata": {
    "slideshow": {
     "slide_type": "subslide"
    }
   },
   "source": [
    "Le système peut supporter les types de données suivants : \n",
    "\n",
    "   - **Strings** : une suite de caractères d’une taille maximale de 512 Mo \n",
    "   - **Hashes** : une entrée avec plusieurs champs \n",
    "   - **Lists** : un ensemble de strings triés par ordre de saisie \n",
    "   - **Sets** : un ensemble de strings non triés \n",
    "   - **Sorted sets** : un ensemble de strings triés par l’utilisateur \n",
    "   - **Bitmaps** : un ensemble d’opérations au niveau des bits \n",
    "   - **HyperLogLogs** : une estimation basée sur des valeurs précises \n",
    "   - **Streams** : une liste de strings ou de paires clé-valeur complexes"
   ]
  },
  {
   "cell_type": "markdown",
   "id": "176e2039",
   "metadata": {
    "slideshow": {
     "slide_type": "slide"
    }
   },
   "source": [
    "# Redis vs PostgreSQL"
   ]
  },
  {
   "cell_type": "markdown",
   "id": "710219db",
   "metadata": {
    "slideshow": {
     "slide_type": "fragment"
    }
   },
   "source": [
    "Nous allons analyser les différences à l'aide d'un cas pratique que nous avons fait."
   ]
  },
  {
   "cell_type": "markdown",
   "id": "7997b5ed",
   "metadata": {
    "slideshow": {
     "slide_type": "subslide"
    }
   },
   "source": [
    "## Base de donnes\n",
    "\n",
    "Nous avons retenu une base de données extraite du jeu Animal Crossing pour réaliser notre étude.\n",
    "\n",
    "La base de données contient 30 csv, chacun répertoriant divers objets, villageois, vêtements et autres objets de collection du jeu. Les données ont été collectées par un groupe de fans d'Animal Crossing qui continue de collaborer et de créer ces feuilles de calcul pour un usage public. La base de données contient les données originales et la liste complète des contributeurs et des données brutes. Au moment de la rédaction, la seule différence entre la feuille de calcul et cette version est que la version Kaggle omet toutes les colonnes avec des images des éléments, mais est par ailleurs identique.\n",
    "\n",
    "Source : https://www.kaggle.com/jessicali9530/animal-crossing-new-horizons-nookplaza-dataset?fbclid=IwAR132yW030ZcxYDtzeSpl9Zp7m-7_ZOUUw20d3P0tdFwuOE3PXYZ9J7TDhs\n"
   ]
  },
  {
   "cell_type": "code",
   "execution_count": 9,
   "id": "296b8435",
   "metadata": {
    "slideshow": {
     "slide_type": "skip"
    }
   },
   "outputs": [
    {
     "ename": "SyntaxError",
     "evalue": "invalid syntax (<ipython-input-9-d87383325fb0>, line 1)",
     "output_type": "error",
     "traceback": [
      "\u001b[1;36m  File \u001b[1;32m\"<ipython-input-9-d87383325fb0>\"\u001b[1;36m, line \u001b[1;32m1\u001b[0m\n\u001b[1;33m    Montrer la forme des tables avec **seecsv ? Insérer le code.  Comment il marhce c'est code parce que c'est bash **\u001b[0m\n\u001b[1;37m            ^\u001b[0m\n\u001b[1;31mSyntaxError\u001b[0m\u001b[1;31m:\u001b[0m invalid syntax\n"
     ]
    }
   ],
   "source": [
    "Montrer la forme des tables avec **seecsv ? Insérer le code.  Comment il marhce c'est code parce que c'est bash **"
   ]
  },
  {
   "cell_type": "markdown",
   "id": "6c845d6c",
   "metadata": {
    "slideshow": {
     "slide_type": "subslide"
    }
   },
   "source": [
    "## Pré-traitement nécessaire pour pouvoir exploiter la base de données avec Redis                                          "
   ]
  },
  {
   "cell_type": "markdown",
   "id": "7102653b",
   "metadata": {
    "slideshow": {
     "slide_type": "notes"
    }
   },
   "source": [
    "Explication : scripts/imports/redis_import_main.py tables."
   ]
  },
  {
   "cell_type": "code",
   "execution_count": null,
   "id": "8e323820",
   "metadata": {
    "slideshow": {
     "slide_type": "fragment"
    }
   },
   "outputs": [],
   "source": [
    "# %load scripts/imports/redis_import_main.py\n",
    "import argparse\n",
    "import os\n",
    "import traceback\n",
    "import redis\n",
    "import csv\n",
    "import glob\n",
    "\n",
    "def main(db_path, script=False, auto=False, verbose=False, clean=False):\n",
    "    # gets the name of the directory where the script is, to allow\n",
    "    # executing the script from anywhere.\n",
    "    directory = os.path.dirname(os.path.realpath(__file__))\n",
    "\n",
    "    #DATABASE IMPORT TO REDIS\n",
    "    csv_files = [f for f in glob.glob(os.path.join(db_path, \"*.csv\"))]\n",
    "    csv_files.sort()\n",
    "    elem_id = 0\n",
    "    output_filename = os.path.join(directory, \"import_db.redis\")\n",
    "\n",
    "    if clean:\n",
    "        if os.path.exists(output_filename):\n",
    "            print(f\"removing {output_filename}\")\n",
    "            os.remove(output_filename)\n",
    "        else:\n",
    "            print(\"no .redis file to remove... Skipping.\")\n",
    "\n",
    "    if not script and not auto:\n",
    "        print(\"nothing to do... Aborting.\")\n",
    "        return\n",
    "    if auto: #Open Redis DBM\n",
    "        r = redis.Redis() #host='localhost', port=6379, db=0, password=None, socket_timeout=None\n",
    "    if script:\n",
    "        redis_script = open(output_filename, \"w\")"
   ]
  },
  {
   "cell_type": "code",
   "execution_count": null,
   "id": "b062812c",
   "metadata": {
    "slideshow": {
     "slide_type": "subslide"
    }
   },
   "outputs": [],
   "source": [
    "    for csv_file in csv_files:\n",
    "            try:\n",
    "                csvfile = open(csv_file, newline='')\n",
    "                csvreader = csv.reader(csvfile, delimiter=',')\n",
    "                first_row = True\n",
    "                for row in csvreader:\n",
    "                    if first_row == True:\n",
    "                        headers = row\n",
    "                        headers[0] = headers[0][1:]\n",
    "                        first_row = False\n",
    "                    else: #Add to Redis                \n",
    "                        if auto: #Import directly \n",
    "                            line = {f\"{'_'.join(header.split(' '))}\" : value.replace('\\n', ';') for header, value in list(zip(headers, row))}\n",
    "                            r.hmset(f'{elem_id}', line)\n",
    "                            if verbose:\n",
    "                                print(r.hgetall(f'{elem_id}'))\n",
    "                        if script: #Create redis script: ex: HMSET elem_id field1 \"Hello\" field2 \"World\"\n",
    "                            line = \" \".join(f\"{'_'.join(header.split(' '))} \" + value.replace('\\n', ';') for header, value in list(zip(headers, row)) )\n",
    "                            redis_line = f'HMSET {elem_id} {line}\\n'\n",
    "                            redis_script.write(redis_line)\n",
    "                            if verbose:\n",
    "                                print(redis_line)\n",
    "                        elem_id +=1 #at the end so we keep python index notation\n",
    "                csvfile.close()\n",
    "            except:\n",
    "                print(traceback.format_exc())\n",
    "    if script:\n",
    "        redis_script.close()"
   ]
  },
  {
   "cell_type": "code",
   "execution_count": null,
   "id": "f8177e4a",
   "metadata": {
    "slideshow": {
     "slide_type": "subslide"
    }
   },
   "outputs": [],
   "source": [
    "if __name__ == \"__main__\":\n",
    "    # create a parser to change behaviour from outside.\n",
    "    parser = argparse.ArgumentParser()\n",
    "    parser.add_argument(\"tables\", type=str, nargs=1,\n",
    "            help=\"the location of the tables, from the execution location (is required).\")\n",
    "    parser.add_argument('-s', \"--script\", default=False, action=\"store_true\",\n",
    "            help=\"if raised, the execution will generate a redis import script (defaults to False).\")\n",
    "    parser.add_argument('-a', \"--auto\", default=False, action=\"store_true\",\n",
    "            help=\"allows the script to automatically load the database inside a redis server. make sure a redis server is activated before hand. (defaults to False).\")\n",
    "    parser.add_argument('-v', \"--verbose\", default=False, action=\"store_true\",\n",
    "            help=\"turns on verbose (defaults to False).\")\n",
    "    parser.add_argument('-c', \"--clean\", default=False, action=\"store_true\",\n",
    "            help=\"cleans the workspace from generated .redis file (defaults to False).\")\n",
    "\n",
    "    args = parser.parse_args()\n",
    "\n",
    "    #EXECUTION PARAMETERS\n",
    "    script = args.script\n",
    "    auto = args.auto\n",
    "    verbose = args.verbose\n",
    "    db_path = args.tables[0]\n",
    "    clean = args.clean\n",
    "\n",
    "    # the actual redis database generation.\n",
    "    main(db_path, script=script, auto=auto, verbose=verbose, clean=clean)"
   ]
  },
  {
   "cell_type": "markdown",
   "id": "85f9f644",
   "metadata": {
    "slideshow": {
     "slide_type": "subslide"
    }
   },
   "source": [
    "Les données se présentent alors sous la forme clef-valeur : \n",
    " \n",
    "   - La clef est un entier compris entre 0 et 16144, 16 144 correspondant à l'addition du nombre de lignes total de toutes les relations contenues dans la base de données Animal Crossing.\n",
    "   - La valeur associée (qui est une ligne) se présente sous la forme :  \n",
    "\n",
    "          1) \"Nom de la colonne1\"/\"Donnée associée\" \n",
    "          2) \"Nom de la colonne2\"/\"Donnée associée\" \n",
    "          ...\n",
    "          N) \"Nom de la colonneN\"/\"Donnée associée\""
   ]
  },
  {
   "cell_type": "markdown",
   "id": "1e598c9d",
   "metadata": {
    "slideshow": {
     "slide_type": "notes"
    }
   },
   "source": [
    "Les requêtes sur PostgreSQl étant incompatibles avec les reqûetes Redis, on choisit de contourner le problème en passant par le langage Python afin de pouvoir les traduire."
   ]
  },
  {
   "cell_type": "markdown",
   "id": "05cabe55",
   "metadata": {
    "slideshow": {
     "slide_type": "subslide"
    }
   },
   "source": [
    "## Quelques requêtes SQL sur PostgreSQL et leurs équivalent en Redis en passant par python\n",
    "\n",
    "Nous avons fait plus de 30 requêtes. Vous pouvez les consulter sur le github du projet. Cependant, nous allons maintenant en discuter quelques-uns juste pour voir les différences."
   ]
  },
  {
   "cell_type": "markdown",
   "id": "2a6a774d",
   "metadata": {
    "slideshow": {
     "slide_type": "notes"
    }
   },
   "source": [
    "Commenter la forme des reqûetes en direct."
   ]
  },
  {
   "cell_type": "markdown",
   "id": "4c99d23e",
   "metadata": {
    "slideshow": {
     "slide_type": "subslide"
    }
   },
   "source": [
    "### Query 1"
   ]
  },
  {
   "cell_type": "code",
   "execution_count": null,
   "id": "ce7644a0",
   "metadata": {
    "slideshow": {
     "slide_type": "fragment"
    }
   },
   "outputs": [],
   "source": [
    "# %load scripts/queries/psql/query_01/query.psql\n",
    "SELECT AVG(sell)\n",
    "FROM accessories;"
   ]
  },
  {
   "cell_type": "code",
   "execution_count": null,
   "id": "873a19bb",
   "metadata": {
    "slideshow": {
     "slide_type": "fragment"
    }
   },
   "outputs": [],
   "source": [
    "# %load scripts/queries/redis/query_01/query.py\n",
    "import redis\n",
    "\n",
    "r = redis.Redis()\n",
    "\n",
    "#keys corresponding to tables\n",
    "accessories = range(0,222)\n",
    "#Query 2\n",
    "list_sell = []\n",
    "for key in accessories :\n",
    "    elem = r.hmget(key,'Sell')\n",
    "    list_sell.append(int(elem[0].decode()))\n",
    "results2 = sum(list_sell)/len(list_sell)\n",
    "print(\"Query 2 :\", results2)"
   ]
  },
  {
   "cell_type": "markdown",
   "id": "63c86d49",
   "metadata": {
    "slideshow": {
     "slide_type": "subslide"
    }
   },
   "source": [
    "### Query 7"
   ]
  },
  {
   "cell_type": "code",
   "execution_count": null,
   "id": "30037dd7",
   "metadata": {
    "slideshow": {
     "slide_type": "fragment"
    }
   },
   "outputs": [],
   "source": [
    "# %load scripts/queries/psql/query_07/query.psql\n",
    "SELECT name, category, buy, sell, catalog, artist, museum_description\n",
    "FROM art\n",
    "WHERE size_of='1x1'\n",
    "AND hha_concept_1='expensive'\n",
    "AND hha_concept_2='folk art'\n",
    "AND tag='Sculpture';"
   ]
  },
  {
   "cell_type": "code",
   "execution_count": null,
   "id": "d4c0a6a2",
   "metadata": {
    "slideshow": {
     "slide_type": "subslide"
    }
   },
   "outputs": [],
   "source": [
    "# %load scripts/queries/redis/query_07/query.py\n",
    "import redis\n",
    "\n",
    "r = redis.Redis()\n",
    "\n",
    "#keys corresponding to tables\n",
    "art = range(306,376)\n",
    "\n",
    "#Query 8\n",
    "results8 = []\n",
    "for key in art :\n",
    "    elem_decoded = r.hmget(key,'Size')[0].decode()\n",
    "    elem_decoded2 = r.hmget(key,'HHA_Concept_1')[0].decode()\n",
    "    elem_decoded3 = r.hmget(key,'HHA_Concept_2')[0].decode()\n",
    "    elem_decoded4 = r.hmget(key,'Tag')[0].decode()\n",
    "    if (elem_decoded == '1x1') and (elem_decoded2 == 'expensive') and (elem_decoded3 == 'folk art') and (elem_decoded4 == 'Sculpture') :\n",
    "        result8 = []\n",
    "        result8.append(r.hmget(key,'Name')[0].decode())\n",
    "        result8.append(r.hmget(key,'Category')[0].decode())\n",
    "        result8.append(r.hmget(key,'Buy')[0].decode())\n",
    "        result8.append(r.hmget(key,'Sell')[0].decode())\n",
    "        result8.append(r.hmget(key,'Catalog')[0].decode())\n",
    "        result8.append(r.hmget(key,'Artist')[0].decode())\n",
    "        result8.append(r.hmget(key,'Museum_Description')[0].decode())\n",
    "        results8.append(result8)\n",
    "\n",
    "print(\"Query 8 :\", results8)"
   ]
  },
  {
   "cell_type": "markdown",
   "id": "d58236f9",
   "metadata": {
    "slideshow": {
     "slide_type": "subslide"
    }
   },
   "source": [
    "### Query 18"
   ]
  },
  {
   "cell_type": "code",
   "execution_count": null,
   "id": "69c6df00",
   "metadata": {
    "slideshow": {
     "slide_type": "fragment"
    }
   },
   "outputs": [],
   "source": [
    "# %load scripts/queries/psql/query_18/query.psql\n",
    "SELECT name, buy, sell, catalog, color_1, color_2, source, outdoor FROM housewares WHERE hha_concept_1='expensive' AND tag='Toy';"
   ]
  },
  {
   "cell_type": "code",
   "execution_count": null,
   "id": "e0549044",
   "metadata": {
    "slideshow": {
     "slide_type": "fragment"
    }
   },
   "outputs": [],
   "source": [
    "# %load scripts/queries/redis/query_18/query.py\n",
    "import redis\n",
    "\n",
    "r = redis.Redis()\n",
    "\n",
    "#keys corresponding to tables\n",
    "housewares = range(3393,6668)\n",
    "\n",
    "#Query 19\n",
    "results19 = []\n",
    "for key in housewares:\n",
    "    elem_decoded = r.hmget(key,'HHA_Concept_1')[0].decode()\n",
    "    elem_decoded1 = r.hmget(key,'Tag')[0].decode()\n",
    "    if (elem_decoded == 'expensive') and (elem_decoded1 == 'Toy'):\n",
    "        result19 = []\n",
    "        result19.append(r.hmget(key,'Name')[0].decode())\n",
    "        result19.append(r.hmget(key,'Buy')[0].decode())\n",
    "        result19.append(r.hmget(key,'Sell')[0].decode())\n",
    "        result19.append(r.hmget(key,'Catalog')[0].decode())\n",
    "        result19.append(r.hmget(key,'Color_1')[0].decode())\n",
    "        result19.append(r.hmget(key,'Color_2')[0].decode())\n",
    "        result19.append(r.hmget(key,'Source')[0].decode())\n",
    "        result19.append(r.hmget(key,'Outdoor')[0].decode())\n",
    "        results19.append(result19)\n",
    "print(\"Query 19 :\", results19)"
   ]
  },
  {
   "cell_type": "markdown",
   "id": "6e4786f1",
   "metadata": {
    "slideshow": {
     "slide_type": "subslide"
    }
   },
   "source": [
    "## Temps d'execution des requêtes avec PostgreSQL et Redis\n",
    "\n",
    "**Insérer le tableau des temps d'execution avec PostgreSQL et Redis.**"
   ]
  },
  {
   "cell_type": "markdown",
   "id": "142db5dd",
   "metadata": {
    "slideshow": {
     "slide_type": "notes"
    }
   },
   "source": [
    "Discuter la différence des temps d'execution."
   ]
  },
  {
   "cell_type": "markdown",
   "id": "9a212c56",
   "metadata": {
    "slideshow": {
     "slide_type": "slide"
    }
   },
   "source": [
    "# Redis, quand l'utiliser ?  Conclusions !"
   ]
  },
  {
   "cell_type": "markdown",
   "id": "1326fda9",
   "metadata": {
    "slideshow": {
     "slide_type": "subslide"
    }
   },
   "source": [
    "Discuter l'efficacité en fonction de la nature des données, temps d'execution.\n",
    "Quelles entreprises utilises déjà Redis ?"
   ]
  }
 ],
 "metadata": {
  "celltoolbar": "Slideshow",
  "kernelspec": {
   "display_name": "Python 3",
   "language": "python",
   "name": "python3"
  },
  "language_info": {
   "codemirror_mode": {
    "name": "ipython",
    "version": 3
   },
   "file_extension": ".py",
   "mimetype": "text/x-python",
   "name": "python",
   "nbconvert_exporter": "python",
   "pygments_lexer": "ipython3",
   "version": "3.8.8"
  }
 },
 "nbformat": 4,
 "nbformat_minor": 5
}
