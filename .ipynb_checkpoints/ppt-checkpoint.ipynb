{
 "cells": [
  {
   "cell_type": "markdown",
   "id": "85aea225",
   "metadata": {
    "slideshow": {
     "slide_type": "slide"
    }
   },
   "source": [
    "<img src=\"https://cdn4.iconfinder.com/data/icons/redis-2/1451/Untitled-2-512.png\" alt=\"\" width=\"200\"/>\n",
    "\n",
    "# Redis, le DBM du futur ?\n",
    "\n",
    "- Antonio Giménez Nadal\n",
    "- Pierre Sammut\n",
    "- Cyril Scoul\n",
    "- Antoine Stevan"
   ]
  },
  {
   "cell_type": "markdown",
   "id": "7a4fd6b8",
   "metadata": {
    "slideshow": {
     "slide_type": "notes"
    }
   },
   "source": [
    "[Toni] Bonjour, on vas vous presentez maintenant redis. Un gesteur de base de donnes du type NoSQL. Qui est très populaire parmi les grand enterprises. Et que on pense que il peut etre vraiment le gesteur du futur."
   ]
  },
  {
   "cell_type": "markdown",
   "id": "5f82cbae",
   "metadata": {
    "slideshow": {
     "slide_type": "slide"
    }
   },
   "source": [
    "# Redis, dans le monde des DBMs\n"
   ]
  },
  {
   "cell_type": "markdown",
   "id": "fd6960db",
   "metadata": {
    "slideshow": {
     "slide_type": "notes"
    }
   },
   "source": [
    "[Toni] Mais avant d'y entrer avec tous les details. On va contextualiser un peu où il se trouve redis, dans tout l'espace des differents types de gesteurs de databases."
   ]
  },
  {
   "cell_type": "markdown",
   "id": "e25255e8",
   "metadata": {
    "slideshow": {
     "slide_type": "subslide"
    }
   },
   "source": [
    "## SQL vs NoSQL\n"
   ]
  },
  {
   "cell_type": "markdown",
   "id": "92da8560",
   "metadata": {
    "slideshow": {
     "slide_type": "notes"
    }
   },
   "source": [
    "[Toni] Et la grand difference qu'on voit, c'est entre SQL et NoSQL."
   ]
  },
  {
   "cell_type": "markdown",
   "id": "5f626e81",
   "metadata": {
    "slideshow": {
     "slide_type": "fragment"
    }
   },
   "source": [
    "<img src=\"https://th.bing.com/th/id/OIP.W6F1WcYqgaogrQV99OvBVgHaD9?pid=ImgDet&rs=1\" alt=\"\" width=\"600\"/>\n"
   ]
  },
  {
   "cell_type": "markdown",
   "id": "b720a967",
   "metadata": {
    "slideshow": {
     "slide_type": "notes"
    }
   },
   "source": [
    "[Toni] Dans la famille SQL on trouve deux type the gesteurs. Les relationnels et les analytics. Avec de logiciels comme postgrestSQL, et tous les differents versions commerciaux.\n",
    "\n",
    "Et dans la famille NoSQL. On peut distinguer 4 types de gesteurs.\n",
    "\n",
    "-La famille wide-colum. Avec cassandra par example.\n",
    "-La famille graphs. Avec neo4j.\n",
    "-La famille documents. Avec mongodb.\n",
    "-Et finalement, la famille Key-Value.\n",
    "\n",
    "Notament avec Redis.\n",
    "\n",
    "Alors, on peut classifier redis, comme un gesteur du type NoSQl, et concretament comme un Key-Value.\n",
    "\n",
    "Cependant, c'est vrai q'avec certains plugins redis peut devenir tous les types de gesteur NoSQL."
   ]
  },
  {
   "cell_type": "markdown",
   "id": "97736581",
   "metadata": {
    "slideshow": {
     "slide_type": "fragment"
    }
   },
   "source": [
    "- Redis c'est un Key-Value NoSQL DBM.\n",
    "- Cependant, avec certains plugins, il peut être converti en n'importe quel type de NoSQL."
   ]
  },
  {
   "cell_type": "markdown",
   "id": "7b0023f5",
   "metadata": {
    "slideshow": {
     "slide_type": "slide"
    }
   },
   "source": [
    "# Redis, comment ça marche ? "
   ]
  },
  {
   "cell_type": "markdown",
   "id": "dd7d547a",
   "metadata": {
    "slideshow": {
     "slide_type": "notes"
    }
   },
   "source": [
    "[Toni] Une fois contextualiser un peut ou se trouve redis avec tous les autres dbm. On va parle de comment redis marche."
   ]
  },
  {
   "cell_type": "markdown",
   "id": "9092e406",
   "metadata": {
    "slideshow": {
     "slide_type": "subslide"
    }
   },
   "source": [
    "-expliquer le fonctionnement de base (+ comment est-il conforme à ACID, BASE ?)\n",
    "- avantages et inconvénients\n"
   ]
  },
  {
   "cell_type": "markdown",
   "id": "176e2039",
   "metadata": {
    "slideshow": {
     "slide_type": "slide"
    }
   },
   "source": [
    "# Redis, mieux que postgrestSQL ? "
   ]
  },
  {
   "cell_type": "markdown",
   "id": "7997b5ed",
   "metadata": {
    "slideshow": {
     "slide_type": "subslide"
    }
   },
   "source": [
    "execution de code? compairisons ...\n",
    "voir avantatges en tant que comparant avec postgrestsql\n"
   ]
  },
  {
   "cell_type": "markdown",
   "id": "9a212c56",
   "metadata": {
    "slideshow": {
     "slide_type": "slide"
    }
   },
   "source": [
    "# Redis, quand l'utiliser ?  "
   ]
  },
  {
   "cell_type": "markdown",
   "id": "1326fda9",
   "metadata": {
    "slideshow": {
     "slide_type": "subslide"
    }
   },
   "source": [
    "-quand utiliser? + \n",
    "utilisations pratiques (disons modules redis pour faire toutes sortes de bases de données, + entreprises qui l'utilisent)"
   ]
  },
  {
   "cell_type": "markdown",
   "id": "93774038",
   "metadata": {
    "slideshow": {
     "slide_type": "slide"
    }
   },
   "source": [
    "# Redis, le DBM du futur\n",
    "\n",
    "conclusions finales"
   ]
  }
 ],
 "metadata": {
  "celltoolbar": "Slideshow",
  "kernelspec": {
   "display_name": "Python 3",
   "language": "python",
   "name": "python3"
  },
  "language_info": {
   "codemirror_mode": {
    "name": "ipython",
    "version": 3
   },
   "file_extension": ".py",
   "mimetype": "text/x-python",
   "name": "python",
   "nbconvert_exporter": "python",
   "pygments_lexer": "ipython3",
   "version": "3.8.8"
  }
 },
 "nbformat": 4,
 "nbformat_minor": 5
}
